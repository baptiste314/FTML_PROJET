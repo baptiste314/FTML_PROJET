{
 "cells": [
  {
   "cell_type": "code",
   "execution_count": 1,
   "id": "48b7e8bf-38be-4bde-9cad-81a5fd397866",
   "metadata": {},
   "outputs": [
    {
     "name": "stdout",
     "output_type": "stream",
     "text": [
      "1. Loading Data\n",
      "Data loaded successfully.\n",
      "\n",
      " 2. Training the best-performing model\n",
      "\n",
      " 3. Evaluation\n",
      "\n",
      "\n",
      "FINAL REPORT FOR EXERCISE 5\n",
      "\n",
      "Best Model Found: Support Vector Classifier (SVC)\n",
      "Optimal Preprocessing: None (raw data)\n",
      "Optimal Hyperparameters: C=10, gamma=0.01\n",
      "Final Test Accuracy: 0.8075\n"
     ]
    }
   ],
   "source": [
    "# -*- coding: utf-8 -*-\n",
    "\n",
    "import numpy as np\n",
    "from sklearn.svm import SVC\n",
    "from sklearn.metrics import accuracy_score\n",
    "\n",
    "print(\"1. Loading Data\")\n",
    "try:\n",
    "    X_train = np.load('../data/classification/X_train.npy')\n",
    "    y_train = np.load('../data/classification/y_train.npy')\n",
    "    X_test = np.load('../data/classification/X_test.npy')\n",
    "    y_test = np.load('../data/classification/y_test.npy')\n",
    "    print(\"Data loaded successfully.\")\n",
    "except FileNotFoundError:\n",
    "    print(\"\\nError: Data files not found. Please check the path '../data/classification/'.\")\n",
    "    exit()\n",
    "\n",
    "print(\"\\n 2. Training the best-performing model\")\n",
    "\n",
    "best_model = SVC(C=10, gamma=0.01, kernel='rbf', random_state=42)\n",
    "\n",
    "best_model.fit(X_train, y_train)\n",
    "\n",
    "print(\"\\n 3. Evaluation\")\n",
    "\n",
    "y_pred = best_model.predict(X_test)\n",
    "final_accuracy = accuracy_score(y_test, y_pred)\n",
    "\n",
    "print(\"\\n\")\n",
    "print(\"FINAL REPORT FOR EXERCISE 5\")\n",
    "print(f\"\\nBest Model Found: Support Vector Classifier (SVC)\")\n",
    "print(f\"Optimal Preprocessing: None (raw data)\")\n",
    "print(f\"Optimal Hyperparameters: C=10, gamma=0.01\")\n",
    "print(f\"Final Test Accuracy: {final_accuracy:.4f}\")"
   ]
  },
  {
   "cell_type": "markdown",
   "id": "e7dac77f-b4b2-4f04-ad0e-871ceea71ea0",
   "metadata": {},
   "source": [
    "To solve the classification task, we made an evaluation of the five classifiers suggested. We used GridSearchCV to find the best hyperparameters for each model for 2 scenarios: using the raw data and using data scaled with StandardScaler.\n",
    "This search showed that data scaling made model performance worse on the dataset. The highest accuracy was achieved by a SVC trained directly on the raw data. The final test accuracy is 0.8075, which is below the 0.85 objective, but this approach is the optimal solution that we found with our process."
   ]
  }
 ],
 "metadata": {
  "kernelspec": {
   "display_name": "Python 3 (ipykernel)",
   "language": "python",
   "name": "python3"
  },
  "language_info": {
   "codemirror_mode": {
    "name": "ipython",
    "version": 3
   },
   "file_extension": ".py",
   "mimetype": "text/x-python",
   "name": "python",
   "nbconvert_exporter": "python",
   "pygments_lexer": "ipython3",
   "version": "3.13.5"
  }
 },
 "nbformat": 4,
 "nbformat_minor": 5
}
